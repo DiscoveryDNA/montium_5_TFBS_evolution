{
 "cells": [
  {
   "cell_type": "markdown",
   "metadata": {},
   "source": [
    "**Date**: October 30, 2019 <br>\n",
    "**Authors**: Zoe Liu, Ciera Martinez <br>\n",
    "**Purpose**: To find the counts of species not represented across all orthologous regions. Reason species are not represented in a given region include:\n",
    "* The motif is too short\n",
    "* The sequence ended\n",
    "* The score is below the threshold of 7\n",
    "\n",
    "**Background**: The data is taken from the file \"all_data_bcd_2019_10_01_after_QC.csv\", which is the dataset after quality control was performed. <br>\n",
    "**Methodology**: Import the data from csv. Iterating through all elements with the same region, extract species that have TFBS == yes into a list and compare the list to a list of all species in the region. Find the species included in the original list but not in the TFBS list. These are the species that are not represented in the orthologous region by our threshold of score == 7. Use this method across every region and tally the species when they are not represented. "
   ]
  },
  {
   "cell_type": "markdown",
   "metadata": {},
   "source": [
    "## Experiment"
   ]
  },
  {
   "cell_type": "code",
   "execution_count": 5,
   "metadata": {},
   "outputs": [],
   "source": [
    "import numpy as np\n",
    "import matplotlib.pyplot as plt"
   ]
  },
  {
   "cell_type": "code",
   "execution_count": 9,
   "metadata": {},
   "outputs": [
    {
     "data": {
      "text/plain": [
       "['MEMB002F', 'MEMB004B', 'MEMB004E', 'MEMB005D', 'MEMB006A', 'MEMB006C']"
      ]
     },
     "execution_count": 9,
     "metadata": {},
     "output_type": "execute_result"
    }
   ],
   "source": [
    "import pandas as pd\n",
    "#This is just a quick check to make sure my code works. Orth and Original are taken from region VT15159. The dataset I took it\n",
    "#from is the same as the one we will be using. I confirmed that the output of this cell is consistent with my manual check \n",
    "#of the species not contained in the original list.\n",
    "\n",
    "orth = pd.read_csv(\"data/orth.csv\") \n",
    "original = pd.read_csv(\"data/original.csv\") \n",
    "[i for i in original[\"species\"] if i not in list(orth[\"species\"])]"
   ]
  },
  {
   "cell_type": "code",
   "execution_count": 10,
   "metadata": {},
   "outputs": [
    {
     "data": {
      "text/html": [
       "<div>\n",
       "<style scoped>\n",
       "    .dataframe tbody tr th:only-of-type {\n",
       "        vertical-align: middle;\n",
       "    }\n",
       "\n",
       "    .dataframe tbody tr th {\n",
       "        vertical-align: top;\n",
       "    }\n",
       "\n",
       "    .dataframe thead th {\n",
       "        text-align: right;\n",
       "    }\n",
       "</style>\n",
       "<table border=\"1\" class=\"dataframe\">\n",
       "  <thead>\n",
       "    <tr style=\"text-align: right;\">\n",
       "      <th></th>\n",
       "      <th>strand</th>\n",
       "      <th>align_position</th>\n",
       "      <th>score</th>\n",
       "      <th>region</th>\n",
       "      <th>enhancer_func</th>\n",
       "      <th>species</th>\n",
       "      <th>raw_position</th>\n",
       "      <th>raw_seq</th>\n",
       "      <th>before_seq</th>\n",
       "      <th>after_seq</th>\n",
       "      <th>TFBS_called</th>\n",
       "    </tr>\n",
       "  </thead>\n",
       "  <tbody>\n",
       "    <tr>\n",
       "      <th>0</th>\n",
       "      <td>positive</td>\n",
       "      <td>972</td>\n",
       "      <td>-8.157841</td>\n",
       "      <td>VT14010</td>\n",
       "      <td>0</td>\n",
       "      <td>MEMB002A</td>\n",
       "      <td>376</td>\n",
       "      <td>CAACCT</td>\n",
       "      <td>AATTGC</td>\n",
       "      <td>AGCAAT</td>\n",
       "      <td>no</td>\n",
       "    </tr>\n",
       "    <tr>\n",
       "      <th>1</th>\n",
       "      <td>positive</td>\n",
       "      <td>972</td>\n",
       "      <td>-0.436742</td>\n",
       "      <td>VT14010</td>\n",
       "      <td>0</td>\n",
       "      <td>MEMB002B</td>\n",
       "      <td>375</td>\n",
       "      <td>CAATCT</td>\n",
       "      <td>AATTGC</td>\n",
       "      <td>AGCAAT</td>\n",
       "      <td>no</td>\n",
       "    </tr>\n",
       "    <tr>\n",
       "      <th>2</th>\n",
       "      <td>positive</td>\n",
       "      <td>972</td>\n",
       "      <td>-8.157841</td>\n",
       "      <td>VT14010</td>\n",
       "      <td>0</td>\n",
       "      <td>MEMB002C</td>\n",
       "      <td>376</td>\n",
       "      <td>CAACCT</td>\n",
       "      <td>AATTGC</td>\n",
       "      <td>AGCAAT</td>\n",
       "      <td>no</td>\n",
       "    </tr>\n",
       "    <tr>\n",
       "      <th>3</th>\n",
       "      <td>positive</td>\n",
       "      <td>972</td>\n",
       "      <td>7.351161</td>\n",
       "      <td>VT14010</td>\n",
       "      <td>0</td>\n",
       "      <td>MEMB002D</td>\n",
       "      <td>376</td>\n",
       "      <td>TAATCT</td>\n",
       "      <td>AATTGC</td>\n",
       "      <td>AGCAAT</td>\n",
       "      <td>yes</td>\n",
       "    </tr>\n",
       "    <tr>\n",
       "      <th>4</th>\n",
       "      <td>positive</td>\n",
       "      <td>972</td>\n",
       "      <td>3.891729</td>\n",
       "      <td>VT14010</td>\n",
       "      <td>0</td>\n",
       "      <td>MEMB002E</td>\n",
       "      <td>376</td>\n",
       "      <td>TAATCG</td>\n",
       "      <td>AATAGC</td>\n",
       "      <td>AGCTAT</td>\n",
       "      <td>no</td>\n",
       "    </tr>\n",
       "  </tbody>\n",
       "</table>\n",
       "</div>"
      ],
      "text/plain": [
       "     strand  align_position     score   region  enhancer_func   species  \\\n",
       "0  positive             972 -8.157841  VT14010              0  MEMB002A   \n",
       "1  positive             972 -0.436742  VT14010              0  MEMB002B   \n",
       "2  positive             972 -8.157841  VT14010              0  MEMB002C   \n",
       "3  positive             972  7.351161  VT14010              0  MEMB002D   \n",
       "4  positive             972  3.891729  VT14010              0  MEMB002E   \n",
       "\n",
       "   raw_position raw_seq before_seq after_seq TFBS_called  \n",
       "0           376  CAACCT     AATTGC    AGCAAT          no  \n",
       "1           375  CAATCT     AATTGC    AGCAAT          no  \n",
       "2           376  CAACCT     AATTGC    AGCAAT          no  \n",
       "3           376  TAATCT     AATTGC    AGCAAT         yes  \n",
       "4           376  TAATCG     AATAGC    AGCTAT          no  "
      ]
     },
     "execution_count": 10,
     "metadata": {},
     "output_type": "execute_result"
    }
   ],
   "source": [
    "data = pd.read_csv(\"data/all_data_bcd_2019_10_01_after_QC.csv\")\n",
    "data.head()"
   ]
  },
  {
   "cell_type": "code",
   "execution_count": 11,
   "metadata": {},
   "outputs": [
    {
     "data": {
      "text/plain": [
       "2264"
      ]
     },
     "execution_count": 11,
     "metadata": {},
     "output_type": "execute_result"
    }
   ],
   "source": [
    "#The number of unique regions. We have to iterate through all 2264 of them in order to find the tallies of non-represented\n",
    "#species\n",
    "unique_regions = data[\"region\"].unique()\n",
    "len(unique_regions)"
   ]
  },
  {
   "cell_type": "code",
   "execution_count": 12,
   "metadata": {},
   "outputs": [],
   "source": [
    "not_included = {} #This dictionary will contain the tally of non-represented species\n",
    "for region in unique_regions:\n",
    "    temp = data[data[\"region\"] == region] #filter the data to get elements in that specific region\n",
    "    temp_tfbs = temp[temp[\"TFBS_called\"] == \"yes\"] #filter temp to get rows corresponding to TFBS\n",
    "    orth = temp_tfbs[\"species\"].unique() #get unique species from TFBS == yes rows\n",
    "    original = temp[\"species\"].unique() #get unique species from the entire region\n",
    "\n",
    "#if a species is in the region but not represented in the orthologous region, increase its tally by one\n",
    "    for i in original:\n",
    "        if i not in orth:\n",
    "            if i not in not_included:\n",
    "                not_included[i] = 0\n",
    "            else:\n",
    "                not_included[i] += 1"
   ]
  },
  {
   "cell_type": "code",
   "execution_count": 13,
   "metadata": {},
   "outputs": [
    {
     "data": {
      "text/plain": [
       "[('MEMB006B', 405),\n",
       " ('MEMB003B', 410),\n",
       " ('MEMB007C', 416),\n",
       " ('MEMB006A', 420),\n",
       " ('MEMB002D', 427),\n",
       " ('MEMB002E', 431),\n",
       " ('MEMB003D', 433),\n",
       " ('MEMB003F', 433),\n",
       " ('MEMB004B', 434),\n",
       " ('MEMB005D', 434),\n",
       " ('MEMB005B', 437),\n",
       " ('MEMB003A', 438),\n",
       " ('MEMB007D', 440),\n",
       " ('dkik', 440),\n",
       " ('MEMB006C', 443),\n",
       " ('MEMB002B', 445),\n",
       " ('MEMB004E', 445),\n",
       " ('MEMB008C', 456),\n",
       " ('MEMB002C', 457),\n",
       " ('MEMB007B', 460),\n",
       " ('MEMB004A', 464),\n",
       " ('MEMB002A', 466),\n",
       " ('MEMB003C', 473),\n",
       " ('MEMB002F', 478)]"
      ]
     },
     "execution_count": 13,
     "metadata": {},
     "output_type": "execute_result"
    }
   ],
   "source": [
    "#sort the dictionary in increasing order to find the most and least represented species\n",
    "sorted(not_included.items(), key=lambda kv: kv[1])"
   ]
  },
  {
   "cell_type": "code",
   "execution_count": 37,
   "metadata": {},
   "outputs": [],
   "source": [
    "#create dataframe to plot graph\n",
    "data_df = pd.DataFrame([not_included])\n",
    "data_df = data_df.transpose()\n",
    "data_df = data_df.sort_values(0)"
   ]
  },
  {
   "cell_type": "code",
   "execution_count": 39,
   "metadata": {},
   "outputs": [
    {
     "data": {
      "image/png": "[encoded data removed]",
      "text/plain": [
       "<Figure size 864x432 with 1 Axes>"
      ]
     },
     "metadata": {
      "needs_background": "light"
     },
     "output_type": "display_data"
    }
   ],
   "source": [
    "import seaborn as sns\n",
    "import matplotlib.pyplot as plt\n",
    "plt.figure(figsize=(12,6)) #create a figure that is 12 x 6\n",
    "ax = sns.barplot(x=data_df.index, y=data_df[0], data=data_df, order=data_df.index)\n",
    "ax.set_xticklabels(ax.get_xticklabels(), rotation=90)\n",
    "plt.ylim(400, 500)\n",
    "plt.title(\"Counts of Non-represented Species Over All Regions\")\n",
    "plt.show()"
   ]
  },
  {
   "cell_type": "code",
   "execution_count": 21,
   "metadata": {},
   "outputs": [
    {
     "name": "stdout",
     "output_type": "stream",
     "text": [
      "Total tally of non-representation:  10585\n",
      "Percentage of total database:  0.0264524480697335\n",
      "Average count of non-representation:  441.0416666666667\n",
      "Average percentage of non-represented regions:  0.1948063898704358\n"
     ]
    }
   ],
   "source": [
    "print(\"Total tally of non-representation: \", sum(not_included.values()))\n",
    "print(\"Percentage of total database: \", sum(not_included.values()) / len(data))\n",
    "avg = sum(not_included.values()) / len(not_included)\n",
    "print(\"Average count of non-representation: \", avg)\n",
    "print(\"Average percentage of non-represented regions: \", avg / len(unique_regions))"
   ]
  },
  {
   "cell_type": "markdown",
   "metadata": {},
   "source": [
    "**Conclusion**: We can observe that all species are pretty much evenly non-represented, with a range of 73. The least represented species is MEMB002F with a tally of 478 (which corresponds to 21% of all regions) and the most represented species is MEMB006B with a tally of 405 (which corresponds to 17% of all regions).  The total number of times a species is not represented is 10585, which is roughly 2% of our entire database. This is pretty low, and an indicator that our scoring system is working well. However on average, species are not represented in roughly 19% of regions. Can this number be lower?"
   ]
  },
  {
   "cell_type": "code",
   "execution_count": null,
   "metadata": {},
   "outputs": [],
   "source": []
  }
 ],
 "metadata": {
  "kernelspec": {
   "display_name": "Python 3",
   "language": "python",
   "name": "python3"
  },
  "language_info": {
   "codemirror_mode": {
    "name": "ipython",
    "version": 3
   },
   "file_extension": ".py",
   "mimetype": "text/x-python",
   "name": "python",
   "nbconvert_exporter": "python",
   "pygments_lexer": "ipython3",
   "version": "3.7.3"
  }
 },
 "nbformat": 4,
 "nbformat_minor": 2
}
